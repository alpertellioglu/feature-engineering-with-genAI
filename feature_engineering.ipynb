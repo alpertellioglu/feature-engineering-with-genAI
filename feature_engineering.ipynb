{
 "cells": [
  {
   "cell_type": "code",
   "execution_count": 58,
   "metadata": {},
   "outputs": [],
   "source": [
    "import config\n",
    "import pandas as pd\n",
    "from openai import OpenAI"
   ]
  },
  {
   "cell_type": "code",
   "execution_count": 13,
   "metadata": {},
   "outputs": [
    {
     "name": "stdout",
     "output_type": "stream",
     "text": [
      "ChatCompletionMessage(content='Hello! How can I assist you today?', role='assistant', function_call=None, tool_calls=None)\n"
     ]
    }
   ],
   "source": [
    "client = OpenAI(api_key=config.OPENAI_API_KEY)\n",
    "\n",
    "\n",
    "completion = client.chat.completions.create(\n",
    "    model=\"gpt-3.5-turbo\",\n",
    "    messages=[\n",
    "        {\n",
    "            \"role\": \"system\",\n",
    "            \"content\": \"You are a helpful assistant.\",\n",
    "        },\n",
    "        {\n",
    "            \"role\": \"user\",\n",
    "            \"content\": \"Hi\",\n",
    "        },\n",
    "    ],\n",
    ")\n",
    "\n",
    "print(completion.choices[0].message)"
   ]
  },
  {
   "cell_type": "code",
   "execution_count": 16,
   "metadata": {},
   "outputs": [
    {
     "data": {
      "text/html": [
       "<div>\n",
       "<style scoped>\n",
       "    .dataframe tbody tr th:only-of-type {\n",
       "        vertical-align: middle;\n",
       "    }\n",
       "\n",
       "    .dataframe tbody tr th {\n",
       "        vertical-align: top;\n",
       "    }\n",
       "\n",
       "    .dataframe thead th {\n",
       "        text-align: right;\n",
       "    }\n",
       "</style>\n",
       "<table border=\"1\" class=\"dataframe\">\n",
       "  <thead>\n",
       "    <tr style=\"text-align: right;\">\n",
       "      <th></th>\n",
       "      <th>SalePrice</th>\n",
       "      <th>YearBuilt</th>\n",
       "      <th>Area (ft²)</th>\n",
       "      <th>Address</th>\n",
       "    </tr>\n",
       "  </thead>\n",
       "  <tbody>\n",
       "    <tr>\n",
       "      <th>0</th>\n",
       "      <td>100000</td>\n",
       "      <td>2008</td>\n",
       "      <td>2200</td>\n",
       "      <td>789 Oak St, Springfield, 62704</td>\n",
       "    </tr>\n",
       "    <tr>\n",
       "      <th>1</th>\n",
       "      <td>120000</td>\n",
       "      <td>2010</td>\n",
       "      <td>1300</td>\n",
       "      <td>Santa Monica/90401, 123 Ocean Ave</td>\n",
       "    </tr>\n",
       "    <tr>\n",
       "      <th>2</th>\n",
       "      <td>500000</td>\n",
       "      <td>2020</td>\n",
       "      <td>1500</td>\n",
       "      <td>New York, 456 Broadway, 10012</td>\n",
       "    </tr>\n",
       "  </tbody>\n",
       "</table>\n",
       "</div>"
      ],
      "text/plain": [
       "   SalePrice  YearBuilt  Area (ft²)                             Address\n",
       "0     100000       2008         2200     789 Oak St, Springfield, 62704\n",
       "1     120000       2010         1300  Santa Monica/90401, 123 Ocean Ave\n",
       "2     500000       2020         1500      New York, 456 Broadway, 10012"
      ]
     },
     "execution_count": 16,
     "metadata": {},
     "output_type": "execute_result"
    }
   ],
   "source": [
    "data = {\n",
    "    \"SalePrice\": [100000, 120000, 500000],\n",
    "    \"YearBuilt\": [2008, 2010, 2020],\n",
    "    \"Area (ft²) \": [2200, 1300, 1500],\n",
    "    \"Address\": [\n",
    "        \"789 Oak St, Springfield, 62704\",\n",
    "        \"Santa Monica/90401, 123 Ocean Ave\",\n",
    "        \"New York, 456 Broadway, 10012\",\n",
    "    ],\n",
    "}\n",
    "\n",
    "df = pd.DataFrame(data)\n",
    "df"
   ]
  },
  {
   "cell_type": "markdown",
   "metadata": {},
   "source": [
    "Suggestion for Feature Engineering"
   ]
  },
  {
   "cell_type": "code",
   "execution_count": 18,
   "metadata": {},
   "outputs": [
    {
     "name": "stdout",
     "output_type": "stream",
     "text": [
      "\n",
      "I have the following DataFrame for House Price data.\n",
      "\n",
      " SalePrice  YearBuilt  Area (ft²)                            Address\n",
      "    100000       2008         2200    789 Oak St, Springfield, 62704\n",
      "    120000       2010         1300 Santa Monica/90401, 123 Ocean Ave\n",
      "    500000       2020         1500     New York, 456 Broadway, 10012\n",
      "\n",
      "Suggest some new meaningful features I can create from the existing features.\n",
      "\n"
     ]
    }
   ],
   "source": [
    "prompt = \"\"\"\n",
    "I have the following DataFrame for House Price data.\n",
    "\n",
    "{}\n",
    "\n",
    "Suggest some new meaningful features I can create from the existing features.\n",
    "\"\"\"\n",
    "\n",
    "# Format the prompt with the DataFrame\n",
    "formatted_prompt = prompt.format(df.to_string(index=False))\n",
    "print(formatted_prompt)"
   ]
  },
  {
   "cell_type": "code",
   "execution_count": 19,
   "metadata": {},
   "outputs": [
    {
     "name": "stdout",
     "output_type": "stream",
     "text": [
      "ChatCompletionMessage(content='Here are some new meaningful features that you can create from the existing features in your DataFrame:\\n\\n1. `Age of the House`: Calculate the age of the house by subtracting the `YearBuilt` from the current year. This will give you an indication of how old the property is.\\n   \\n2. `Price per Square Foot`: Calculate the price per square foot by dividing the `SalePrice` by the `Area (ft²)`. This feature can provide insights into the value of the property based on its size.\\n\\n3. `City`: Extract the city name from the `Address` column. This can be useful for analyzing house prices based on different cities.\\n\\n4. `Zip Code`: Extract the zip code from the `Address` column. This feature can be used to analyze house prices based on different areas or regions.\\n\\n5. `Total Rooms`: Create a new feature that estimates the total number of rooms in the property by considering the `Area (ft²)` and average room size.\\n\\n6. `Is New Construction`: Create a binary feature that indicates whether the property was built recently (e.g., within the last 5 years). This can be inferred from the `YearBuilt` feature.\\n\\n7. `Street Name`: Extract the street name from the `Address` column. This feature can be useful for analyzing house prices based on different street locations.\\n\\nThese new features can provide additional insights into the house prices dataset and potentially improve the performance of machine learning models for predicting house prices.', role='assistant', function_call=None, tool_calls=None)\n"
     ]
    }
   ],
   "source": [
    "completion = client.chat.completions.create(\n",
    "    model=\"gpt-3.5-turbo\",\n",
    "    messages=[\n",
    "        {\n",
    "            \"role\": \"system\",\n",
    "            \"content\": \"You are a data scientist that performs feature engineering.\",\n",
    "        },\n",
    "        {\n",
    "            \"role\": \"user\",\n",
    "            \"content\": formatted_prompt\n",
    "        },\n",
    "    ],\n",
    ")\n",
    "\n",
    "print(completion.choices[0].message)"
   ]
  },
  {
   "cell_type": "code",
   "execution_count": 20,
   "metadata": {},
   "outputs": [
    {
     "name": "stdout",
     "output_type": "stream",
     "text": [
      "Here are some new meaningful features that you can create from the existing features in your DataFrame:\n",
      "\n",
      "1. `Age of the House`: Calculate the age of the house by subtracting the `YearBuilt` from the current year. This will give you an indication of how old the property is.\n",
      "   \n",
      "2. `Price per Square Foot`: Calculate the price per square foot by dividing the `SalePrice` by the `Area (ft²)`. This feature can provide insights into the value of the property based on its size.\n",
      "\n",
      "3. `City`: Extract the city name from the `Address` column. This can be useful for analyzing house prices based on different cities.\n",
      "\n",
      "4. `Zip Code`: Extract the zip code from the `Address` column. This feature can be used to analyze house prices based on different areas or regions.\n",
      "\n",
      "5. `Total Rooms`: Create a new feature that estimates the total number of rooms in the property by considering the `Area (ft²)` and average room size.\n",
      "\n",
      "6. `Is New Construction`: Create a binary feature that indicates whether the property was built recently (e.g., within the last 5 years). This can be inferred from the `YearBuilt` feature.\n",
      "\n",
      "7. `Street Name`: Extract the street name from the `Address` column. This feature can be useful for analyzing house prices based on different street locations.\n",
      "\n",
      "These new features can provide additional insights into the house prices dataset and potentially improve the performance of machine learning models for predicting house prices.\n"
     ]
    }
   ],
   "source": [
    "print(completion.choices[0].message.content)"
   ]
  },
  {
   "cell_type": "markdown",
   "metadata": {},
   "source": [
    "### Important note: \n",
    "Using API in this way can result in very high costs. Dataset will most likely consist of so many tokens. Also, it's costly to make it remember the chat history. I suggest using the web interface instead of api for brainstorming tasks like this. We'll use the API for more trickier tasks!"
   ]
  },
  {
   "cell_type": "markdown",
   "metadata": {},
   "source": [
    "## Using LLMs for feature generation"
   ]
  },
  {
   "cell_type": "code",
   "execution_count": 60,
   "metadata": {},
   "outputs": [
    {
     "data": {
      "text/html": [
       "<div>\n",
       "<style scoped>\n",
       "    .dataframe tbody tr th:only-of-type {\n",
       "        vertical-align: middle;\n",
       "    }\n",
       "\n",
       "    .dataframe tbody tr th {\n",
       "        vertical-align: top;\n",
       "    }\n",
       "\n",
       "    .dataframe thead th {\n",
       "        text-align: right;\n",
       "    }\n",
       "</style>\n",
       "<table border=\"1\" class=\"dataframe\">\n",
       "  <thead>\n",
       "    <tr style=\"text-align: right;\">\n",
       "      <th></th>\n",
       "      <th>SalePrice</th>\n",
       "      <th>YearBuilt</th>\n",
       "      <th>Area (ft²)</th>\n",
       "      <th>Address</th>\n",
       "    </tr>\n",
       "  </thead>\n",
       "  <tbody>\n",
       "    <tr>\n",
       "      <th>0</th>\n",
       "      <td>100000</td>\n",
       "      <td>2008</td>\n",
       "      <td>2200</td>\n",
       "      <td>789 Oak St, Springfield, 62704</td>\n",
       "    </tr>\n",
       "    <tr>\n",
       "      <th>1</th>\n",
       "      <td>120000</td>\n",
       "      <td>2010</td>\n",
       "      <td>1300</td>\n",
       "      <td>Santa Monica/90401, 123 Ocean Ave</td>\n",
       "    </tr>\n",
       "    <tr>\n",
       "      <th>2</th>\n",
       "      <td>500000</td>\n",
       "      <td>2020</td>\n",
       "      <td>1500</td>\n",
       "      <td>New York, 456 Broadway, 10012</td>\n",
       "    </tr>\n",
       "  </tbody>\n",
       "</table>\n",
       "</div>"
      ],
      "text/plain": [
       "   SalePrice  YearBuilt  Area (ft²)                             Address\n",
       "0     100000       2008         2200     789 Oak St, Springfield, 62704\n",
       "1     120000       2010         1300  Santa Monica/90401, 123 Ocean Ave\n",
       "2     500000       2020         1500      New York, 456 Broadway, 10012"
      ]
     },
     "execution_count": 60,
     "metadata": {},
     "output_type": "execute_result"
    }
   ],
   "source": [
    "data = {\n",
    "    \"SalePrice\": [100000, 120000, 500000],\n",
    "    \"YearBuilt\": [2008, 2010, 2020],\n",
    "    \"Area (ft²) \": [2200, 1300, 1500],\n",
    "    \"Address\": [\n",
    "        \"789 Oak St, Springfield, 62704\",\n",
    "        \"Santa Monica/90401, 123 Ocean Ave\",\n",
    "        \"New York, 456 Broadway, 10012\",\n",
    "    ],\n",
    "}\n",
    "\n",
    "df = pd.DataFrame(data)\n",
    "df"
   ]
  },
  {
   "cell_type": "code",
   "execution_count": 28,
   "metadata": {},
   "outputs": [],
   "source": [
    "# Define a prompt for generating the \"State\" column\n",
    "addresses = df[\"Address\"].tolist()\n",
    "address_string = \"\\n\".join(addresses)\n",
    "prompt = f\"\"\"\n",
    "I have the following addresses:\n",
    "\n",
    "{address_string}\n",
    "\n",
    "Please extract the state for each address and return them as a plain list with no additional text or explanation, in the format [\"State1\", \"State2\", \"State3\"].\n",
    "\n",
    "\"\"\""
   ]
  },
  {
   "cell_type": "code",
   "execution_count": 29,
   "metadata": {},
   "outputs": [
    {
     "name": "stdout",
     "output_type": "stream",
     "text": [
      "\n",
      "I have the following addresses:\n",
      "\n",
      "789 Oak St, Springfield, 62704\n",
      "Santa Monica/90401, 123 Ocean Ave\n",
      "New York, 456 Broadway, 10012\n",
      "\n",
      "Please extract the state for each address and return them as a plain list with no additional text or explanation, in the format [\"State1\", \"State2\", \"State3\"].\n",
      "\n",
      "\n"
     ]
    }
   ],
   "source": [
    "print(prompt)"
   ]
  },
  {
   "cell_type": "code",
   "execution_count": 30,
   "metadata": {},
   "outputs": [
    {
     "name": "stdout",
     "output_type": "stream",
     "text": [
      "[\"IL\", \"CA\", \"NY\"]\n"
     ]
    }
   ],
   "source": [
    "completion = client.chat.completions.create(\n",
    "    model=\"gpt-3.5-turbo\",\n",
    "    messages=[\n",
    "        {\n",
    "            \"role\": \"system\",\n",
    "            \"content\": \"You are a data scientist that performs feature engineering.\",\n",
    "        },\n",
    "        {\"role\": \"user\", \"content\": prompt},\n",
    "    ],\n",
    ")\n",
    "\n",
    "print(completion.choices[0].message.content)"
   ]
  },
  {
   "cell_type": "code",
   "execution_count": 39,
   "metadata": {},
   "outputs": [],
   "source": [
    "#Here you might want to implement a smarter parser, that checks if the response is in the correct format."
   ]
  },
  {
   "cell_type": "code",
   "execution_count": 32,
   "metadata": {},
   "outputs": [
    {
     "name": "stdout",
     "output_type": "stream",
     "text": [
      "Parsed States:\n",
      "['IL', 'CA', 'NY']\n",
      "<class 'list'>\n"
     ]
    }
   ],
   "source": [
    "# Extract and print the response\n",
    "response_text = completion.choices[0].message.content\n",
    "\n",
    "# Clean the response to ensure it is in the correct format\n",
    "import ast\n",
    "\n",
    "try:\n",
    "    states = ast.literal_eval(response_text)\n",
    "except Exception as e:\n",
    "    print(\"Error parsing response:\", e)\n",
    "    states = []\n",
    "\n",
    "# Verify the parsed states\n",
    "print(\"Parsed States:\")\n",
    "print(states)\n",
    "print(type(states))"
   ]
  },
  {
   "cell_type": "code",
   "execution_count": 33,
   "metadata": {},
   "outputs": [
    {
     "name": "stdout",
     "output_type": "stream",
     "text": [
      "   SalePrice  YearBuilt  Area (ft²)                             Address State\n",
      "0     100000       2008         2200     789 Oak St, Springfield, 62704    IL\n",
      "1     120000       2010         1300  Santa Monica/90401, 123 Ocean Ave    CA\n",
      "2     500000       2020         1500      New York, 456 Broadway, 10012    NY\n"
     ]
    }
   ],
   "source": [
    "# Add the \"State\" column to the DataFrame manually\n",
    "if len(states) == len(df):\n",
    "    df[\"State\"] = states\n",
    "else:\n",
    "    print(\"The number of states does not match the number of addresses.\")\n",
    "\n",
    "\n",
    "print(df)"
   ]
  },
  {
   "cell_type": "code",
   "execution_count": 42,
   "metadata": {},
   "outputs": [],
   "source": [
    "# Define a prompt for generating the \"CloseToSea\" column\n",
    "addresses = df[\"Address\"].tolist()\n",
    "address_string = \"\\n\".join(addresses)\n",
    "prompt = f\"\"\"\n",
    "I have the following addresses:\n",
    "\n",
    "{address_string}\n",
    "\n",
    "For each address, please indicate whether it is close to the sea or not. Return the results as a list of boolean values in the format [True/False, True/False, True/False] with no additional text and explanation.\n",
    "\"\"\""
   ]
  },
  {
   "cell_type": "code",
   "execution_count": 43,
   "metadata": {},
   "outputs": [
    {
     "name": "stdout",
     "output_type": "stream",
     "text": [
      "[False, True, False]\n"
     ]
    }
   ],
   "source": [
    "completion = client.chat.completions.create(\n",
    "    model=\"gpt-3.5-turbo\",\n",
    "    messages=[\n",
    "        {\n",
    "            \"role\": \"system\",\n",
    "            \"content\": \"You are a data scientist that performs feature engineering.\",\n",
    "        },\n",
    "        {\"role\": \"user\", \"content\": prompt},\n",
    "    ],\n",
    ")\n",
    "\n",
    "print(completion.choices[0].message.content)"
   ]
  },
  {
   "cell_type": "code",
   "execution_count": 44,
   "metadata": {},
   "outputs": [],
   "source": [
    "response_text = completion.choices[0].message.content\n",
    "\n",
    "try:\n",
    "    is_close_to_sea = ast.literal_eval(response_text)\n",
    "except Exception as e:\n",
    "    print(\"Error parsing response:\", e)\n",
    "    is_close_to_sea = []\n",
    "\n",
    "# Add the \"CloseToSea\" column to the DataFrame\n",
    "if len(is_close_to_sea) == len(df):\n",
    "    df[\"CloseToSea\"] = is_close_to_sea\n",
    "else:\n",
    "    print(\"The number of boolean values does not match the number of addresses.\")"
   ]
  },
  {
   "cell_type": "code",
   "execution_count": 45,
   "metadata": {},
   "outputs": [
    {
     "data": {
      "text/html": [
       "<div>\n",
       "<style scoped>\n",
       "    .dataframe tbody tr th:only-of-type {\n",
       "        vertical-align: middle;\n",
       "    }\n",
       "\n",
       "    .dataframe tbody tr th {\n",
       "        vertical-align: top;\n",
       "    }\n",
       "\n",
       "    .dataframe thead th {\n",
       "        text-align: right;\n",
       "    }\n",
       "</style>\n",
       "<table border=\"1\" class=\"dataframe\">\n",
       "  <thead>\n",
       "    <tr style=\"text-align: right;\">\n",
       "      <th></th>\n",
       "      <th>SalePrice</th>\n",
       "      <th>YearBuilt</th>\n",
       "      <th>Area (ft²)</th>\n",
       "      <th>Address</th>\n",
       "      <th>State</th>\n",
       "      <th>CloseToSea</th>\n",
       "    </tr>\n",
       "  </thead>\n",
       "  <tbody>\n",
       "    <tr>\n",
       "      <th>0</th>\n",
       "      <td>100000</td>\n",
       "      <td>2008</td>\n",
       "      <td>2200</td>\n",
       "      <td>789 Oak St, Springfield, 62704</td>\n",
       "      <td>IL</td>\n",
       "      <td>False</td>\n",
       "    </tr>\n",
       "    <tr>\n",
       "      <th>1</th>\n",
       "      <td>120000</td>\n",
       "      <td>2010</td>\n",
       "      <td>1300</td>\n",
       "      <td>Santa Monica/90401, 123 Ocean Ave</td>\n",
       "      <td>CA</td>\n",
       "      <td>True</td>\n",
       "    </tr>\n",
       "    <tr>\n",
       "      <th>2</th>\n",
       "      <td>500000</td>\n",
       "      <td>2020</td>\n",
       "      <td>1500</td>\n",
       "      <td>New York, 456 Broadway, 10012</td>\n",
       "      <td>NY</td>\n",
       "      <td>False</td>\n",
       "    </tr>\n",
       "  </tbody>\n",
       "</table>\n",
       "</div>"
      ],
      "text/plain": [
       "   SalePrice  YearBuilt  Area (ft²)                             Address State  \\\n",
       "0     100000       2008         2200     789 Oak St, Springfield, 62704    IL   \n",
       "1     120000       2010         1300  Santa Monica/90401, 123 Ocean Ave    CA   \n",
       "2     500000       2020         1500      New York, 456 Broadway, 10012    NY   \n",
       "\n",
       "   CloseToSea  \n",
       "0       False  \n",
       "1        True  \n",
       "2       False  "
      ]
     },
     "execution_count": 45,
     "metadata": {},
     "output_type": "execute_result"
    }
   ],
   "source": [
    "df"
   ]
  },
  {
   "cell_type": "markdown",
   "metadata": {},
   "source": [
    "## Power of LLMs on Demographic Data"
   ]
  },
  {
   "cell_type": "code",
   "execution_count": 46,
   "metadata": {},
   "outputs": [
    {
     "data": {
      "text/html": [
       "<div>\n",
       "<style scoped>\n",
       "    .dataframe tbody tr th:only-of-type {\n",
       "        vertical-align: middle;\n",
       "    }\n",
       "\n",
       "    .dataframe tbody tr th {\n",
       "        vertical-align: top;\n",
       "    }\n",
       "\n",
       "    .dataframe thead th {\n",
       "        text-align: right;\n",
       "    }\n",
       "</style>\n",
       "<table border=\"1\" class=\"dataframe\">\n",
       "  <thead>\n",
       "    <tr style=\"text-align: right;\">\n",
       "      <th></th>\n",
       "      <th>Name</th>\n",
       "      <th>Phone Number</th>\n",
       "    </tr>\n",
       "  </thead>\n",
       "  <tbody>\n",
       "    <tr>\n",
       "      <th>0</th>\n",
       "      <td>John Smith</td>\n",
       "      <td>+1 555-123-4567</td>\n",
       "    </tr>\n",
       "    <tr>\n",
       "      <th>1</th>\n",
       "      <td>Carlos García</td>\n",
       "      <td>+34 612 345 678</td>\n",
       "    </tr>\n",
       "    <tr>\n",
       "      <th>2</th>\n",
       "      <td>Marie Dubois</td>\n",
       "      <td>+33 1 23 45 67 89</td>\n",
       "    </tr>\n",
       "    <tr>\n",
       "      <th>3</th>\n",
       "      <td>Hans Schmidt</td>\n",
       "      <td>+49 151 23456789</td>\n",
       "    </tr>\n",
       "  </tbody>\n",
       "</table>\n",
       "</div>"
      ],
      "text/plain": [
       "            Name       Phone Number\n",
       "0     John Smith    +1 555-123-4567\n",
       "1  Carlos García    +34 612 345 678\n",
       "2   Marie Dubois  +33 1 23 45 67 89\n",
       "3   Hans Schmidt   +49 151 23456789"
      ]
     },
     "execution_count": 46,
     "metadata": {},
     "output_type": "execute_result"
    }
   ],
   "source": [
    "# Create the DataFrame\n",
    "data = {\n",
    "    \"Name\": [\"John Smith\", \"Carlos García\", \"Marie Dubois\", \"Hans Schmidt\"],\n",
    "    \"Phone Number\": [\n",
    "        \"+1 555-123-4567\",  # US\n",
    "        \"+34 612 345 678\",  # Spain\n",
    "        \"+33 1 23 45 67 89\",  # France\n",
    "        \"+49 151 23456789\",  # Germany\n",
    "    ],\n",
    "}\n",
    "\n",
    "df = pd.DataFrame(data)\n",
    "df"
   ]
  },
  {
   "cell_type": "code",
   "execution_count": 48,
   "metadata": {},
   "outputs": [],
   "source": [
    "# Define a prompt for generating the \"Gender\" column\n",
    "# Name -> Gender\n",
    "names = df[\"Name\"].tolist()\n",
    "names_string = \"\\n\".join(names)\n",
    "prompt = f\"\"\"\n",
    "I have the following names:\n",
    "\n",
    "{names_string}\n",
    "\n",
    "Please provide the most likely gender (male or female), return the results as a list in the format [\"gender\", \"gender\", ...] with no additional text and explanation.\n",
    "\"\"\""
   ]
  },
  {
   "cell_type": "code",
   "execution_count": 49,
   "metadata": {},
   "outputs": [
    {
     "name": "stdout",
     "output_type": "stream",
     "text": [
      "[\"male\", \"male\", \"female\", \"male\"]\n"
     ]
    }
   ],
   "source": [
    "completion = client.chat.completions.create(\n",
    "    model=\"gpt-3.5-turbo\",\n",
    "    messages=[\n",
    "        {\n",
    "            \"role\": \"system\",\n",
    "            \"content\": \"You are a data scientist that performs feature engineering.\",\n",
    "        },\n",
    "        {\"role\": \"user\", \"content\": prompt},\n",
    "    ],\n",
    ")\n",
    "\n",
    "print(completion.choices[0].message.content)"
   ]
  },
  {
   "cell_type": "code",
   "execution_count": 51,
   "metadata": {},
   "outputs": [],
   "source": [
    "response_text = completion.choices[0].message.content\n",
    "\n",
    "try:\n",
    "    genders = ast.literal_eval(response_text)\n",
    "except Exception as e:\n",
    "    print(\"Error parsing response:\", e)\n",
    "    genders = []\n",
    "\n",
    "# Add the \"Gender\" column to the DataFrame\n",
    "if len(genders) == len(df):\n",
    "    df[\"Gender\"] = genders\n",
    "else:\n",
    "    print(\"The number of genders does not match the number of names.\")"
   ]
  },
  {
   "cell_type": "code",
   "execution_count": 52,
   "metadata": {},
   "outputs": [
    {
     "data": {
      "text/html": [
       "<div>\n",
       "<style scoped>\n",
       "    .dataframe tbody tr th:only-of-type {\n",
       "        vertical-align: middle;\n",
       "    }\n",
       "\n",
       "    .dataframe tbody tr th {\n",
       "        vertical-align: top;\n",
       "    }\n",
       "\n",
       "    .dataframe thead th {\n",
       "        text-align: right;\n",
       "    }\n",
       "</style>\n",
       "<table border=\"1\" class=\"dataframe\">\n",
       "  <thead>\n",
       "    <tr style=\"text-align: right;\">\n",
       "      <th></th>\n",
       "      <th>Name</th>\n",
       "      <th>Phone Number</th>\n",
       "      <th>Gender</th>\n",
       "    </tr>\n",
       "  </thead>\n",
       "  <tbody>\n",
       "    <tr>\n",
       "      <th>0</th>\n",
       "      <td>John Smith</td>\n",
       "      <td>+1 555-123-4567</td>\n",
       "      <td>male</td>\n",
       "    </tr>\n",
       "    <tr>\n",
       "      <th>1</th>\n",
       "      <td>Carlos García</td>\n",
       "      <td>+34 612 345 678</td>\n",
       "      <td>male</td>\n",
       "    </tr>\n",
       "    <tr>\n",
       "      <th>2</th>\n",
       "      <td>Marie Dubois</td>\n",
       "      <td>+33 1 23 45 67 89</td>\n",
       "      <td>female</td>\n",
       "    </tr>\n",
       "    <tr>\n",
       "      <th>3</th>\n",
       "      <td>Hans Schmidt</td>\n",
       "      <td>+49 151 23456789</td>\n",
       "      <td>male</td>\n",
       "    </tr>\n",
       "  </tbody>\n",
       "</table>\n",
       "</div>"
      ],
      "text/plain": [
       "            Name       Phone Number  Gender\n",
       "0     John Smith    +1 555-123-4567    male\n",
       "1  Carlos García    +34 612 345 678    male\n",
       "2   Marie Dubois  +33 1 23 45 67 89  female\n",
       "3   Hans Schmidt   +49 151 23456789    male"
      ]
     },
     "execution_count": 52,
     "metadata": {},
     "output_type": "execute_result"
    }
   ],
   "source": [
    "df"
   ]
  },
  {
   "cell_type": "code",
   "execution_count": 53,
   "metadata": {},
   "outputs": [],
   "source": [
    "# Define a prompt for generating the \"Country\" column\n",
    "# Phone Number -> Country\n",
    "phone_numbers = df[\"Phone Number\"].tolist()\n",
    "phone_numbers_string = \"\\n\".join(phone_numbers)\n",
    "prompt = f\"\"\"\n",
    "I have the following phone numbers:\n",
    "\n",
    "{phone_numbers_string}\n",
    "\n",
    "Please provide the country name from the country code in the phone number. Return the results as a list in the format [\"Spain\", ...] with no additional text or explanation.\n",
    "\"\"\""
   ]
  },
  {
   "cell_type": "code",
   "execution_count": 54,
   "metadata": {},
   "outputs": [
    {
     "name": "stdout",
     "output_type": "stream",
     "text": [
      "[\"United States\", \"Spain\", \"France\", \"Germany\"]\n"
     ]
    }
   ],
   "source": [
    "completion = client.chat.completions.create(\n",
    "    model=\"gpt-3.5-turbo\",\n",
    "    messages=[\n",
    "        {\n",
    "            \"role\": \"system\",\n",
    "            \"content\": \"You are a data scientist that performs feature engineering.\",\n",
    "        },\n",
    "        {\"role\": \"user\", \"content\": prompt},\n",
    "    ],\n",
    ")\n",
    "\n",
    "print(completion.choices[0].message.content)"
   ]
  },
  {
   "cell_type": "code",
   "execution_count": 55,
   "metadata": {},
   "outputs": [],
   "source": [
    "response_text = completion.choices[0].message.content\n",
    "\n",
    "try:\n",
    "    countries = ast.literal_eval(response_text)\n",
    "except Exception as e:\n",
    "    print(\"Error parsing response:\", e)\n",
    "    countries = []\n",
    "\n",
    "# Add the \"Country\" column to the DataFrame\n",
    "if len(countries) == len(df):\n",
    "    df[\"Country\"] = countries\n",
    "else:\n",
    "    print(\"The number of countries does not match the number of names.\")"
   ]
  },
  {
   "cell_type": "code",
   "execution_count": 56,
   "metadata": {},
   "outputs": [
    {
     "data": {
      "text/html": [
       "<div>\n",
       "<style scoped>\n",
       "    .dataframe tbody tr th:only-of-type {\n",
       "        vertical-align: middle;\n",
       "    }\n",
       "\n",
       "    .dataframe tbody tr th {\n",
       "        vertical-align: top;\n",
       "    }\n",
       "\n",
       "    .dataframe thead th {\n",
       "        text-align: right;\n",
       "    }\n",
       "</style>\n",
       "<table border=\"1\" class=\"dataframe\">\n",
       "  <thead>\n",
       "    <tr style=\"text-align: right;\">\n",
       "      <th></th>\n",
       "      <th>Name</th>\n",
       "      <th>Phone Number</th>\n",
       "      <th>Gender</th>\n",
       "      <th>Country</th>\n",
       "    </tr>\n",
       "  </thead>\n",
       "  <tbody>\n",
       "    <tr>\n",
       "      <th>0</th>\n",
       "      <td>John Smith</td>\n",
       "      <td>+1 555-123-4567</td>\n",
       "      <td>male</td>\n",
       "      <td>United States</td>\n",
       "    </tr>\n",
       "    <tr>\n",
       "      <th>1</th>\n",
       "      <td>Carlos García</td>\n",
       "      <td>+34 612 345 678</td>\n",
       "      <td>male</td>\n",
       "      <td>Spain</td>\n",
       "    </tr>\n",
       "    <tr>\n",
       "      <th>2</th>\n",
       "      <td>Marie Dubois</td>\n",
       "      <td>+33 1 23 45 67 89</td>\n",
       "      <td>female</td>\n",
       "      <td>France</td>\n",
       "    </tr>\n",
       "    <tr>\n",
       "      <th>3</th>\n",
       "      <td>Hans Schmidt</td>\n",
       "      <td>+49 151 23456789</td>\n",
       "      <td>male</td>\n",
       "      <td>Germany</td>\n",
       "    </tr>\n",
       "  </tbody>\n",
       "</table>\n",
       "</div>"
      ],
      "text/plain": [
       "            Name       Phone Number  Gender        Country\n",
       "0     John Smith    +1 555-123-4567    male  United States\n",
       "1  Carlos García    +34 612 345 678    male          Spain\n",
       "2   Marie Dubois  +33 1 23 45 67 89  female         France\n",
       "3   Hans Schmidt   +49 151 23456789    male        Germany"
      ]
     },
     "execution_count": 56,
     "metadata": {},
     "output_type": "execute_result"
    }
   ],
   "source": [
    "df"
   ]
  },
  {
   "cell_type": "code",
   "execution_count": null,
   "metadata": {},
   "outputs": [],
   "source": []
  }
 ],
 "metadata": {
  "kernelspec": {
   "display_name": "Python 3",
   "language": "python",
   "name": "python3"
  },
  "language_info": {
   "codemirror_mode": {
    "name": "ipython",
    "version": 3
   },
   "file_extension": ".py",
   "mimetype": "text/x-python",
   "name": "python",
   "nbconvert_exporter": "python",
   "pygments_lexer": "ipython3",
   "version": "3.11.2"
  }
 },
 "nbformat": 4,
 "nbformat_minor": 2
}
